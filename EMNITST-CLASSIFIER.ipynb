{
  "nbformat": 4,
  "nbformat_minor": 0,
  "metadata": {
    "colab": {
      "name": "EMNIST2A@khap.ipynb",
      "provenance": [],
      "collapsed_sections": []
    },
    "kernelspec": {
      "name": "python3",
      "display_name": "Python 3"
    },
    "accelerator": "GPU"
  },
  "cells": [
    {
      "cell_type": "code",
      "metadata": {
        "id": "oY1fpS8EfA_v",
        "colab_type": "code",
        "outputId": "5f3876c5-5e71-496c-ed9a-a74dee9c8f1c",
        "colab": {
          "base_uri": "https://localhost:8080/",
          "height": 241
        }
      },
      "source": [
        "!apt-get install -y -qq software-properties-common python-software-properties module-init-tools\n",
        "!add-apt-repository -y ppa:alessandro-strada/ppa 2>&1 > /dev/null\n",
        "!apt-get update -qq 2>&1 > /dev/null\n",
        "!apt-get -y install -qq google-drive-ocamlfuse fuse\n",
        "from google.colab import auth\n",
        "auth.authenticate_user()\n",
        "from oauth2client.client import GoogleCredentials\n",
        "creds = GoogleCredentials.get_application_default()\n",
        "import getpass\n",
        "!google-drive-ocamlfuse -headless -id={creds.client_id} -secret={creds.client_secret} < /dev/null 2>&1 | grep URL\n",
        "vcode = getpass.getpass()\n",
        "!echo {vcode} | google-drive-ocamlfuse -headless -id={creds.client_id} -secret={creds.client_secret}"
      ],
      "execution_count": 0,
      "outputs": [
        {
          "output_type": "stream",
          "text": [
            "E: Package 'python-software-properties' has no installation candidate\n",
            "^C\n",
            "Selecting previously unselected package google-drive-ocamlfuse.\n",
            "(Reading database ... 130942 files and directories currently installed.)\n",
            "Preparing to unpack .../google-drive-ocamlfuse_0.7.6-0ubuntu1~ubuntu18.04.1_amd64.deb ...\n",
            "Unpacking google-drive-ocamlfuse (0.7.6-0ubuntu1~ubuntu18.04.1) ...\n",
            "Setting up google-drive-ocamlfuse (0.7.6-0ubuntu1~ubuntu18.04.1) ...\n",
            "Processing triggers for man-db (2.8.3-2ubuntu0.1) ...\n",
            "Please, open the following URL in a web browser: https://accounts.google.com/o/oauth2/auth?client_id=32555940559.apps.googleusercontent.com&redirect_uri=urn%3Aietf%3Awg%3Aoauth%3A2.0%3Aoob&scope=https%3A%2F%2Fwww.googleapis.com%2Fauth%2Fdrive&response_type=code&access_type=offline&approval_prompt=force\n",
            "··········\n",
            "Please, open the following URL in a web browser: https://accounts.google.com/o/oauth2/auth?client_id=32555940559.apps.googleusercontent.com&redirect_uri=urn%3Aietf%3Awg%3Aoauth%3A2.0%3Aoob&scope=https%3A%2F%2Fwww.googleapis.com%2Fauth%2Fdrive&response_type=code&access_type=offline&approval_prompt=force\n",
            "Please enter the verification code: Access token retrieved correctly.\n"
          ],
          "name": "stdout"
        }
      ]
    },
    {
      "cell_type": "code",
      "metadata": {
        "id": "DTUulWd1ffNl",
        "colab_type": "code",
        "colab": {}
      },
      "source": [
        "!mkdir -p drive\n",
        "!google-drive-ocamlfuse drive"
      ],
      "execution_count": 0,
      "outputs": []
    },
    {
      "cell_type": "code",
      "metadata": {
        "id": "TFXJTV4XfiYy",
        "colab_type": "code",
        "colab": {}
      },
      "source": [
        "!pip install -q keras\n"
      ],
      "execution_count": 0,
      "outputs": []
    },
    {
      "cell_type": "code",
      "metadata": {
        "id": "--jf7yyMJmtE",
        "colab_type": "code",
        "colab": {}
      },
      "source": [
        "from __future__ import print_function\n",
        "import matplotlib.pyplot as plt\n"
      ],
      "execution_count": 0,
      "outputs": []
    },
    {
      "cell_type": "code",
      "metadata": {
        "id": "okenn5jejiSE",
        "colab_type": "code",
        "outputId": "092d4ae7-2a46-4cbd-e06a-31f879a0e360",
        "colab": {
          "base_uri": "https://localhost:8080/",
          "height": 122
        }
      },
      "source": [
        "from google.colab import drive\n",
        "drive.mount('/content/gdrive')"
      ],
      "execution_count": 0,
      "outputs": [
        {
          "output_type": "stream",
          "text": [
            "Go to this URL in a browser: https://accounts.google.com/o/oauth2/auth?client_id=947318989803-6bn6qk8qdgf4n4g3pfee6491hc0brc4i.apps.googleusercontent.com&redirect_uri=urn%3Aietf%3Awg%3Aoauth%3A2.0%3Aoob&scope=email%20https%3A%2F%2Fwww.googleapis.com%2Fauth%2Fdocs.test%20https%3A%2F%2Fwww.googleapis.com%2Fauth%2Fdrive%20https%3A%2F%2Fwww.googleapis.com%2Fauth%2Fdrive.photos.readonly%20https%3A%2F%2Fwww.googleapis.com%2Fauth%2Fpeopleapi.readonly&response_type=code\n",
            "\n",
            "Enter your authorization code:\n",
            "··········\n",
            "Mounted at /content/gdrive\n"
          ],
          "name": "stdout"
        }
      ]
    },
    {
      "cell_type": "code",
      "metadata": {
        "id": "uxWs6TWRjjSD",
        "colab_type": "code",
        "outputId": "68270ba2-5b85-4491-a653-959548b2566c",
        "colab": {
          "base_uri": "https://localhost:8080/",
          "height": 136
        }
      },
      "source": [
        "!ls \"/content/gdrive/My Drive/EMNIST\"\n"
      ],
      "execution_count": 0,
      "outputs": [
        {
          "output_type": "stream",
          "text": [
            "EMNIST2A@khap.ipynb\n",
            "emnist-byclass-test-images-idx3-ubyte\n",
            "emnist-byclass-test-images-idx3-ubyte.gz\n",
            "emnist-byclass-test-labels-idx1-ubyte\n",
            "emnist-byclass-train-images-idx3-ubyte\n",
            "emnist-byclass-train-labels-idx1-ubyte\n",
            "mnist1A.ipynb\n"
          ],
          "name": "stdout"
        }
      ]
    },
    {
      "cell_type": "code",
      "metadata": {
        "id": "ozoamqq5Fj5i",
        "colab_type": "code",
        "outputId": "825b764a-9ce3-4a6e-fbf3-4001b29cee6b",
        "colab": {
          "base_uri": "https://localhost:8080/",
          "height": 34
        }
      },
      "source": [
        "!ls -lh \"/content/gdrive/My Drive/EMNIST/emnist-byclass-test-images-idx3-ubyte\""
      ],
      "execution_count": 0,
      "outputs": [
        {
          "output_type": "stream",
          "text": [
            "-rw------- 1 root root 87M Jul  2 20:06 '/content/gdrive/My Drive/EMNIST/emnist-byclass-test-images-idx3-ubyte'\n"
          ],
          "name": "stdout"
        }
      ]
    },
    {
      "cell_type": "code",
      "metadata": {
        "id": "oqlmpaUIfSk2",
        "colab_type": "code",
        "outputId": "1009e515-d8fc-4698-cb6e-0f297acdd60e",
        "colab": {
          "base_uri": "https://localhost:8080/",
          "height": 102
        }
      },
      "source": [
        "!pip install mnist\n"
      ],
      "execution_count": 0,
      "outputs": [
        {
          "output_type": "stream",
          "text": [
            "Collecting mnist\n",
            "  Downloading https://files.pythonhosted.org/packages/c6/c4/5db3bfe009f8d71f1d532bbadbd0ec203764bba3a469e4703a889db8e5e0/mnist-0.2.2-py2.py3-none-any.whl\n",
            "Requirement already satisfied: numpy in /usr/local/lib/python3.6/dist-packages (from mnist) (1.16.4)\n",
            "Installing collected packages: mnist\n",
            "Successfully installed mnist-0.2.2\n"
          ],
          "name": "stdout"
        }
      ]
    },
    {
      "cell_type": "code",
      "metadata": {
        "id": "bfq74M2yg2fi",
        "colab_type": "code",
        "colab": {}
      },
      "source": [
        "from mnist import *\n",
        "import os,gzip\n",
        "\n",
        "def loadfile(fname, target_dir=None, force=False):\n",
        "    \"\"\"Download the IDX file named fname from the URL specified in dataset_url\n",
        "    and return it as a numpy array.\n",
        "    Parameters\n",
        "    ----------\n",
        "    fname : str\n",
        "        File name to download and parse\n",
        "    target_dir : str\n",
        "        Directory where to store the file\n",
        "    force : bool\n",
        "        Force downloading the file, if it already exists\n",
        "    Returns\n",
        "    -------\n",
        "    data : numpy.ndarray\n",
        "        Numpy array with the dimensions and the data in the IDX file\n",
        "    \"\"\"\n",
        "    #fname = download_file(fname, target_dir=target_dir, force=force)\n",
        "    fname = \"/content/gdrive/My Drive/EMNIST/\" + fname\n",
        "    fopen = gzip.open if os.path.splitext(fname)[1] == '.gz' else open\n",
        "    with fopen(fname, 'rb') as fd:\n",
        "      return parse_idx(fd)\n",
        "  \n",
        "  \n",
        "\n",
        "X_train= loadfile(\"emnist-byclass-train-images-idx3-ubyte\")\n",
        "y_train = loadfile(\"emnist-byclass-train-labels-idx1-ubyte\")\n",
        "\n",
        "X_test = loadfile(\"emnist-byclass-test-images-idx3-ubyte\")\n",
        "y_test = loadfile(\"emnist-byclass-test-labels-idx1-ubyte\")\n",
        "  \n"
      ],
      "execution_count": 0,
      "outputs": []
    },
    {
      "cell_type": "code",
      "metadata": {
        "id": "j268u6C36c0R",
        "colab_type": "code",
        "outputId": "53f61a37-f06f-42bf-bc06-f44fb8dfbc74",
        "colab": {
          "base_uri": "https://localhost:8080/",
          "height": 286
        }
      },
      "source": [
        "from matplotlib import pyplot as plt\n",
        "#Display a random image\n",
        "plt.imshow(X_train[0])\n",
        "plt.show"
      ],
      "execution_count": 0,
      "outputs": [
        {
          "output_type": "execute_result",
          "data": {
            "text/plain": [
              "<function matplotlib.pyplot.show>"
            ]
          },
          "metadata": {
            "tags": []
          },
          "execution_count": 5
        },
        {
          "output_type": "display_data",
          "data": {
            "image/png": "[encoded data removed]",
            "text/plain": [
              "<Figure size 432x288 with 1 Axes>"
            ]
          },
          "metadata": {
            "tags": []
          }
        }
      ]
    },
    {
      "cell_type": "code",
      "metadata": {
        "id": "yYh8CeKr1h3V",
        "colab_type": "code",
        "outputId": "df7dda19-21ec-4d1b-cbf1-bc6cdb0ec128",
        "colab": {
          "base_uri": "https://localhost:8080/",
          "height": 34
        }
      },
      "source": [
        "#packages required\n",
        "from matplotlib import pyplot as plt\n",
        "import keras\n",
        "from keras.models import Sequential\n",
        "from keras import optimizers\n",
        "from keras.layers import Conv2D, MaxPooling2D, Dropout, Flatten, Dense, Reshape, LSTM,BatchNormalization\n",
        "from keras import backend as K\n",
        "from keras.constraints import maxnorm\n",
        "import numpy as np\n",
        "from keras.utils import np_utils\n",
        "from keras.layers.advanced_activations import LeakyReLU\n"
      ],
      "execution_count": 0,
      "outputs": [
        {
          "output_type": "stream",
          "text": [
            "Using TensorFlow backend.\n"
          ],
          "name": "stderr"
        }
      ]
    },
    {
      "cell_type": "code",
      "metadata": {
        "id": "e5-Nm80h1kCe",
        "colab_type": "code",
        "colab": {}
      },
      "source": [
        "img_r,img_c=28,28\n",
        "if K.image_data_format()=='channels_first':\n",
        "        X_train=X_train.reshape(X_train.shape[0],1,img_r,img_c)\n",
        "        X_test=X_test.reshape(X_test.shape[0],1,img_r,img_c)\n",
        "        input_shape=(1,img_r,img_c)\n",
        "else :\n",
        "    X_train=X_train.reshape(X_train.shape[0],img_r,img_c,1)\n",
        "    X_test=X_test.reshape(X_test.shape[0],img_r,img_c,1)\n",
        "    input_shape=(img_r,img_c,1)\n",
        "\n",
        "X_train=X_train.astype('float32')\n",
        "X_test=X_test.astype('float32')\n",
        "X_train/=255\n",
        "X_test/=255\n",
        "y_train=keras.utils.to_categorical(y_train,62)\n",
        "y_test=keras.utils.to_categorical(y_test,62)\n"
      ],
      "execution_count": 0,
      "outputs": []
    },
    {
      "cell_type": "code",
      "metadata": {
        "id": "ZFlCmdZJ1ii9",
        "colab_type": "code",
        "outputId": "00536690-9b19-4fe1-9704-c73a485ef3b6",
        "colab": {
          "base_uri": "https://localhost:8080/",
          "height": 714
        }
      },
      "source": [
        "#model1A\n",
        "b_size=64\n",
        "epochs=20\n",
        "model=Sequential()\n",
        "model.add(Conv2D(32,kernel_size=(7,7),padding=\"same\",activation='relu',input_shape=input_shape))\n",
        "model.add(BatchNormalization(axis=2))\n",
        "model.add(MaxPooling2D(pool_size=(2,2)))\n",
        "model.add(Conv2D(64,(5,5),padding=\"same\",activation='relu'))\n",
        "model.add(BatchNormalization(axis=2))\n",
        "model.add(MaxPooling2D(pool_size=(2,2)))\n",
        "model.add(Dropout(0.25))\n",
        "model.add(Conv2D(64,(3,3),activation='relu',))\n",
        "model.add(BatchNormalization(axis=2))\n",
        "model.add(MaxPooling2D(pool_size=(2,2)))\n",
        "model.add(Dropout(0.25))\n",
        "model.add(Flatten())\n",
        "model.add(Dense(128,activation='relu'))\n",
        "model.add(Dense(62,activation='softmax'))\n",
        "adam=keras.optimizers.Adam(lr=0.001, beta_1=0.9, beta_2=0.999, epsilon=None, decay=0.0, amsgrad=False)\n",
        "model.compile(loss=keras.losses.categorical_crossentropy,optimizer=adam,metrics=['accuracy'])\n",
        "history=model.fit(X_train ,y_train ,batch_size=b_size ,epochs=epochs ,verbose=1 ,validation_data=(X_test,y_test))\n",
        "error=model.evaluate(X_test,y_test,verbose=0)"
      ],
      "execution_count": 0,
      "outputs": [
        {
          "output_type": "stream",
          "text": [
            "Train on 697932 samples, validate on 116323 samples\n",
            "Epoch 1/20\n",
            "697932/697932 [==============================] - 124s 177us/step - loss: 0.5061 - acc: 0.8258 - val_loss: 0.3778 - val_acc: 0.8602\n",
            "Epoch 2/20\n",
            "697932/697932 [==============================] - 122s 175us/step - loss: 0.3970 - acc: 0.8552 - val_loss: 0.3620 - val_acc: 0.8657\n",
            "Epoch 3/20\n",
            "697932/697932 [==============================] - 122s 175us/step - loss: 0.3778 - acc: 0.8606 - val_loss: 0.3502 - val_acc: 0.8684\n",
            "Epoch 4/20\n",
            "697932/697932 [==============================] - 122s 175us/step - loss: 0.3677 - acc: 0.8636 - val_loss: 0.3463 - val_acc: 0.8703\n",
            "Epoch 5/20\n",
            "697932/697932 [==============================] - 122s 174us/step - loss: 0.3605 - acc: 0.8660 - val_loss: 0.3372 - val_acc: 0.8730\n",
            "Epoch 6/20\n",
            "697932/697932 [==============================] - 122s 175us/step - loss: 0.3556 - acc: 0.8671 - val_loss: 0.3384 - val_acc: 0.8715\n",
            "Epoch 7/20\n",
            "697932/697932 [==============================] - 122s 175us/step - loss: 0.3511 - acc: 0.8686 - val_loss: 0.3403 - val_acc: 0.8715\n",
            "Epoch 8/20\n",
            "697932/697932 [==============================] - 122s 175us/step - loss: 0.3476 - acc: 0.8695 - val_loss: 0.3331 - val_acc: 0.8739\n",
            "Epoch 9/20\n",
            "697932/697932 [==============================] - 122s 175us/step - loss: 0.3455 - acc: 0.8704 - val_loss: 0.3311 - val_acc: 0.8741\n",
            "Epoch 10/20\n",
            "697932/697932 [==============================] - 122s 175us/step - loss: 0.3430 - acc: 0.8713 - val_loss: 0.3342 - val_acc: 0.8738\n",
            "Epoch 11/20\n",
            "697932/697932 [==============================] - 122s 175us/step - loss: 0.3406 - acc: 0.8718 - val_loss: 0.3326 - val_acc: 0.8735\n",
            "Epoch 12/20\n",
            "697932/697932 [==============================] - 122s 175us/step - loss: 0.3387 - acc: 0.8724 - val_loss: 0.3318 - val_acc: 0.8739\n",
            "Epoch 13/20\n",
            "697932/697932 [==============================] - 122s 175us/step - loss: 0.3375 - acc: 0.8728 - val_loss: 0.3292 - val_acc: 0.8744\n",
            "Epoch 14/20\n",
            "697932/697932 [==============================] - 122s 175us/step - loss: 0.3354 - acc: 0.8736 - val_loss: 0.3283 - val_acc: 0.8755\n",
            "Epoch 15/20\n",
            "697932/697932 [==============================] - 122s 175us/step - loss: 0.3344 - acc: 0.8738 - val_loss: 0.3278 - val_acc: 0.8764\n",
            "Epoch 16/20\n",
            "697932/697932 [==============================] - 122s 175us/step - loss: 0.3333 - acc: 0.8742 - val_loss: 0.3248 - val_acc: 0.8772\n",
            "Epoch 17/20\n",
            "697932/697932 [==============================] - 121s 173us/step - loss: 0.3324 - acc: 0.8744 - val_loss: 0.3282 - val_acc: 0.8762\n",
            "Epoch 18/20\n",
            "697932/697932 [==============================] - 127s 182us/step - loss: 0.3310 - acc: 0.8749 - val_loss: 0.3261 - val_acc: 0.8772\n",
            "Epoch 19/20\n",
            "697932/697932 [==============================] - 125s 178us/step - loss: 0.3302 - acc: 0.8750 - val_loss: 0.3243 - val_acc: 0.8778\n",
            "Epoch 20/20\n",
            "697932/697932 [==============================] - 125s 178us/step - loss: 0.3289 - acc: 0.8751 - val_loss: 0.3259 - val_acc: 0.8770\n"
          ],
          "name": "stdout"
        }
      ]
    },
    {
      "cell_type": "code",
      "metadata": {
        "id": "mPb5alLDDvZu",
        "colab_type": "code",
        "outputId": "c97b3ba4-bad2-4b23-bd5a-4a06949f58bb",
        "colab": {
          "base_uri": "https://localhost:8080/",
          "height": 884
        }
      },
      "source": [
        "#model2A\n",
        "Optdelta=keras.optimizers.Adadelta(lr=1.0, rho=0.95, epsilon=None, decay=0.0)\n",
        "\n",
        "b_size=128\n",
        "epochs=25\n",
        "model=Sequential()\n",
        "model.add(Conv2D(32,kernel_size=(7,7),activation='relu',input_shape=input_shape))\n",
        "#model.add(BatchNormalization(axis=2))\n",
        "model.add(Conv2D(64,(5,5),activation='relu'))\n",
        "model.add(Dropout(0.4))\n",
        "model.add(MaxPooling2D(pool_size=(2,2)))\n",
        "model.add(Conv2D(32,(3,3),padding=\"same\",activation='relu',))\n",
        "model.add(Dropout(0.25))\n",
        "model.add(Conv2D(64,(3,3),activation='relu'))\n",
        "model.add(Dropout(0.5))\n",
        "model.add(Conv2D(128,(3,3),padding=\"same\",activation='relu',))\n",
        "model.add(MaxPooling2D(pool_size=(2,2)))\n",
        "model.add(Flatten())\n",
        "model.add(Dense(256,activation='relu'))\n",
        "model.add(Dense(62,activation='softmax'))\n",
        "model.compile(loss=keras.losses.categorical_crossentropy,optimizer=Optdelta,metrics=['accuracy'])\n",
        "history=model.fit(X_train ,y_train ,batch_size=b_size ,epochs=epochs ,verbose=1 ,validation_data=(X_test,y_test))\n",
        "error=model.evaluate(X_test,y_test,verbose=0)"
      ],
      "execution_count": 0,
      "outputs": [
        {
          "output_type": "stream",
          "text": [
            "Train on 697932 samples, validate on 116323 samples\n",
            "Epoch 1/25\n",
            "697932/697932 [==============================] - 63s 90us/step - loss: 0.5454 - acc: 0.8152 - val_loss: 0.4064 - val_acc: 0.8562\n",
            "Epoch 2/25\n",
            "697932/697932 [==============================] - 62s 88us/step - loss: 0.3977 - acc: 0.8548 - val_loss: 0.3801 - val_acc: 0.8612\n",
            "Epoch 3/25\n",
            "697932/697932 [==============================] - 62s 88us/step - loss: 0.3820 - acc: 0.8591 - val_loss: 0.3709 - val_acc: 0.8620\n",
            "Epoch 4/25\n",
            "697932/697932 [==============================] - 62s 88us/step - loss: 0.3745 - acc: 0.8620 - val_loss: 0.3607 - val_acc: 0.8661\n",
            "Epoch 5/25\n",
            "697932/697932 [==============================] - 62s 88us/step - loss: 0.3709 - acc: 0.8628 - val_loss: 0.3741 - val_acc: 0.8628\n",
            "Epoch 6/25\n",
            "697932/697932 [==============================] - 62s 89us/step - loss: 0.3683 - acc: 0.8638 - val_loss: 0.3604 - val_acc: 0.8666\n",
            "Epoch 7/25\n",
            "697932/697932 [==============================] - 62s 88us/step - loss: 0.3670 - acc: 0.8643 - val_loss: 0.3681 - val_acc: 0.8643\n",
            "Epoch 8/25\n",
            "697932/697932 [==============================] - 62s 88us/step - loss: 0.3657 - acc: 0.8649 - val_loss: 0.3872 - val_acc: 0.8611\n",
            "Epoch 9/25\n",
            "697932/697932 [==============================] - 61s 88us/step - loss: 0.3644 - acc: 0.8654 - val_loss: 0.3889 - val_acc: 0.8624\n",
            "Epoch 10/25\n",
            "697932/697932 [==============================] - 61s 88us/step - loss: 0.3645 - acc: 0.8651 - val_loss: 0.3878 - val_acc: 0.8636\n",
            "Epoch 11/25\n",
            "697932/697932 [==============================] - 62s 88us/step - loss: 0.3641 - acc: 0.8657 - val_loss: 0.3713 - val_acc: 0.8651\n",
            "Epoch 12/25\n",
            "697932/697932 [==============================] - 61s 88us/step - loss: 0.3637 - acc: 0.8651 - val_loss: 0.3919 - val_acc: 0.8618\n",
            "Epoch 13/25\n",
            "697932/697932 [==============================] - 61s 88us/step - loss: 0.3635 - acc: 0.8654 - val_loss: 0.3760 - val_acc: 0.8654\n",
            "Epoch 14/25\n",
            "697932/697932 [==============================] - 61s 88us/step - loss: 0.3634 - acc: 0.8657 - val_loss: 0.4023 - val_acc: 0.8608\n",
            "Epoch 15/25\n",
            "697932/697932 [==============================] - 61s 88us/step - loss: 0.3633 - acc: 0.8657 - val_loss: 0.3893 - val_acc: 0.8637\n",
            "Epoch 16/25\n",
            "697932/697932 [==============================] - 62s 88us/step - loss: 0.3638 - acc: 0.8659 - val_loss: 0.3896 - val_acc: 0.8636\n",
            "Epoch 17/25\n",
            "697932/697932 [==============================] - 61s 88us/step - loss: 0.3642 - acc: 0.8656 - val_loss: 0.3925 - val_acc: 0.8637\n",
            "Epoch 18/25\n",
            "697932/697932 [==============================] - 61s 88us/step - loss: 0.3640 - acc: 0.8655 - val_loss: 0.3729 - val_acc: 0.8670\n",
            "Epoch 19/25\n",
            "697932/697932 [==============================] - 61s 88us/step - loss: 0.3632 - acc: 0.8658 - val_loss: 0.4101 - val_acc: 0.8645\n",
            "Epoch 20/25\n",
            "697932/697932 [==============================] - 61s 88us/step - loss: 0.3635 - acc: 0.8654 - val_loss: 0.4037 - val_acc: 0.8663\n",
            "Epoch 21/25\n",
            "697932/697932 [==============================] - 62s 88us/step - loss: 0.3632 - acc: 0.8659 - val_loss: 0.4051 - val_acc: 0.8630\n",
            "Epoch 22/25\n",
            "697932/697932 [==============================] - 61s 88us/step - loss: 0.3637 - acc: 0.8657 - val_loss: 0.3957 - val_acc: 0.8629\n",
            "Epoch 23/25\n",
            "697932/697932 [==============================] - 61s 88us/step - loss: 0.3640 - acc: 0.8658 - val_loss: 0.4042 - val_acc: 0.8636\n",
            "Epoch 24/25\n",
            "697932/697932 [==============================] - 61s 88us/step - loss: 0.3643 - acc: 0.8657 - val_loss: 0.3955 - val_acc: 0.8652\n",
            "Epoch 25/25\n",
            "697932/697932 [==============================] - 61s 88us/step - loss: 0.3645 - acc: 0.8653 - val_loss: 0.4076 - val_acc: 0.8595\n"
          ],
          "name": "stdout"
        }
      ]
    },
    {
      "cell_type": "code",
      "metadata": {
        "id": "re-MvcV7iDpM",
        "colab_type": "code",
        "outputId": "13ead755-9ee6-4897-af0d-e2ef38dfeb3f",
        "colab": {
          "base_uri": "https://localhost:8080/",
          "height": 295
        }
      },
      "source": [
        "#accuracy and loss history visualization\n",
        "#print(history.history.keys())\n",
        "plt.plot(history.history['acc'])\n",
        "plt.plot(history.history['val_acc'])\n",
        "plt.title('Model accuracy')\n",
        "plt.ylabel('Accuracy')\n",
        "plt.xlabel('Epochs')\n",
        "plt.legend(['train','test'],loc='upper left')\n",
        "plt.show()\n",
        "import h5py\n",
        "model.save('emnist_custom2.h5')\n",
        "model.save_weights('custom2_model_weights.h5')"
      ],
      "execution_count": 0,
      "outputs": [
        {
          "output_type": "display_data",
          "data": {
            "image/png": "[encoded data removed]",
            "text/plain": [
              "<Figure size 432x288 with 1 Axes>"
            ]
          },
          "metadata": {
            "tags": []
          }
        }
      ]
    },
    {
      "cell_type": "code",
      "metadata": {
        "id": "TSKCuYtMwrwr",
        "colab_type": "code",
        "colab": {}
      },
      "source": [
        "import h5py\n",
        "x=0\n",
        "train_prev=0\n",
        "train_next=38774\n",
        "hf = h5py.File('/content/gdrive/My Drive/EMNIST/data-X-train%x'%x+'.h5', 'w')\n",
        "hf.create_dataset('dataset_1', data=X_train[train_prev:train_next,:,:,:])\n",
        "hf.close()\n",
        "or x in range(18):\n",
        "    hf = h5py.File('/content/gdrive/My Drive/EMNIST/data-X-train%x'%x+'.h5', 'w')\n",
        "    hf.create_dataset('dataset_1', data=X_train[train_prev:train_next,:,:,:])\n",
        "    hf.close()\n",
        "\n",
        "    hf = h5py.File('/content/gdrive/My Drive/EMNIST/data-y-train%x'%x+'.h5', 'w')\n",
        "    hf.create_dataset('dataset_1', data=y_train[train_prev:train_next,:])\n",
        "    hf.close()\n",
        "\n",
        "    train_prev=train_next\n",
        "    train_next=train_next+38774\n",
        "\n",
        "\n",
        "    hf = h5py.File('/content/gdrive/My Drive/EMNIST/data-X-test%x'%x+'.h5', 'w')\n",
        "    hf.create_dataset('dataset_1', data=X_test[test_prev:test_next,:,:,:])\n",
        "    hf.close()\n",
        "\n",
        "    hf = h5py.File('/content/gdrive/My Drive/EMNIST/data-y-test%x'%x+'.h5', 'w')\n",
        "    hf.create_dataset('dataset_1', data=y_test[test_prev:test_next,:])\n",
        "    hf.close()\n",
        "\n",
        "    test_prev=test_next \n",
        "    test_next=test_next+6462\n",
        "    print(test_next)"
      ],
      "execution_count": 0,
      "outputs": []
    }
  ]
}